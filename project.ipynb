{
 "cells": [
  {
   "cell_type": "code",
   "execution_count": 2,
   "metadata": {},
   "outputs": [],
   "source": [
    "import numpy as np\n",
    "import pandas as pd"
   ]
  },
  {
   "cell_type": "code",
   "execution_count": 37,
   "metadata": {},
   "outputs": [
    {
     "data": {
      "text/plain": [
       "array([[  0., 100., 200.],\n",
       "       [  0.,  80., 180.],\n",
       "       [  0.,   0., 160.]])"
      ]
     },
     "execution_count": 37,
     "metadata": {},
     "output_type": "execute_result"
    }
   ],
   "source": [
    "prob_of_buying = np.array([1, .4])\n",
    "\n",
    "prob_of_happening = np.array([1/4, 1/2, 1/4])\n",
    "\n",
    "price = np.array([100, 200])\n",
    "\n",
    "E = [[np.array([max(j-i, 0), min(i, j)])*prob_of_buying@price \\\n",
    "        if i <= j else 0 for j in range(0,3)] \\\n",
    "        for i in range(0, 3)]\n",
    "## cols = number of people who want to buy\n",
    "## rows = number of premium tickets offered\n",
    "np.array(E)"
   ]
  },
  {
   "cell_type": "code",
   "execution_count": 60,
   "metadata": {},
   "outputs": [
    {
     "name": "stdout",
     "output_type": "stream",
     "text": [
      "[(0, 0), (1, 0), (0, 1), (2, 0), (1, 1), (0, 2)]\n"
     ]
    },
    {
     "data": {
      "text/plain": [
       "100.0"
      ]
     },
     "execution_count": 60,
     "metadata": {},
     "output_type": "execute_result"
    }
   ],
   "source": [
    "possible_actions = [(max(j-i, 0), min(i, j)) \\\n",
    "                        for j in range(0, 3) \\\n",
    "                        for i in range(0, 3) if i <= j]\n",
    "\n",
    "\n",
    "\n",
    "print(possible_actions)\n",
    "exps = {}\n",
    "for action in possible_actions:\n",
    "    customer_array = np.array([[min(ncostumers, action[0]), max(0, ncostumers-action[0])] \\\n",
    "                                for ncostumers in range(0, 3)])\n",
    "    \n",
    "    exps[action] = customer_array*prob_of_buying@price@prob_of_happening\n",
    "\n"
   ]
  },
  {
   "cell_type": "code",
   "execution_count": null,
   "metadata": {},
   "outputs": [],
   "source": []
  }
 ],
 "metadata": {
  "kernelspec": {
   "display_name": "Python 3",
   "language": "python",
   "name": "python3"
  },
  "language_info": {
   "codemirror_mode": {
    "name": "ipython",
    "version": 3
   },
   "file_extension": ".py",
   "mimetype": "text/x-python",
   "name": "python",
   "nbconvert_exporter": "python",
   "pygments_lexer": "ipython3",
   "version": "3.11.7"
  }
 },
 "nbformat": 4,
 "nbformat_minor": 2
}
